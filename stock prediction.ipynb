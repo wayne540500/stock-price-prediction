{
 "cells": [
  {
   "cell_type": "code",
   "execution_count": 12,
   "id": "cb04c584",
   "metadata": {},
   "outputs": [
    {
     "name": "stdout",
     "output_type": "stream",
     "text": [
      "Collecting yfinance\n",
      "  Using cached yfinance-0.1.87-py2.py3-none-any.whl (29 kB)\n",
      "Requirement already satisfied: numpy>=1.15 in c:\\users\\wayne\\anaconda3\\lib\\site-packages (from yfinance) (1.21.5)\n",
      "Requirement already satisfied: lxml>=4.5.1 in c:\\users\\wayne\\anaconda3\\lib\\site-packages (from yfinance) (4.8.0)\n",
      "Requirement already satisfied: pandas>=0.24.0 in c:\\users\\wayne\\anaconda3\\lib\\site-packages (from yfinance) (1.4.2)\n",
      "Requirement already satisfied: appdirs>=1.4.4 in c:\\users\\wayne\\anaconda3\\lib\\site-packages (from yfinance) (1.4.4)\n",
      "Requirement already satisfied: requests>=2.26 in c:\\users\\wayne\\anaconda3\\lib\\site-packages (from yfinance) (2.27.1)\n",
      "Collecting multitasking>=0.0.7\n",
      "  Using cached multitasking-0.0.11-py3-none-any.whl (8.5 kB)\n",
      "Requirement already satisfied: python-dateutil>=2.8.1 in c:\\users\\wayne\\anaconda3\\lib\\site-packages (from pandas>=0.24.0->yfinance) (2.8.2)\n",
      "Requirement already satisfied: pytz>=2020.1 in c:\\users\\wayne\\anaconda3\\lib\\site-packages (from pandas>=0.24.0->yfinance) (2021.3)\n",
      "Requirement already satisfied: six>=1.5 in c:\\users\\wayne\\anaconda3\\lib\\site-packages (from python-dateutil>=2.8.1->pandas>=0.24.0->yfinance) (1.16.0)\n",
      "Requirement already satisfied: idna<4,>=2.5 in c:\\users\\wayne\\anaconda3\\lib\\site-packages (from requests>=2.26->yfinance) (3.3)\n",
      "Requirement already satisfied: urllib3<1.27,>=1.21.1 in c:\\users\\wayne\\anaconda3\\lib\\site-packages (from requests>=2.26->yfinance) (1.26.9)\n",
      "Requirement already satisfied: certifi>=2017.4.17 in c:\\users\\wayne\\anaconda3\\lib\\site-packages (from requests>=2.26->yfinance) (2021.10.8)\n",
      "Requirement already satisfied: charset-normalizer~=2.0.0 in c:\\users\\wayne\\anaconda3\\lib\\site-packages (from requests>=2.26->yfinance) (2.0.4)\n",
      "Installing collected packages: multitasking, yfinance\n",
      "Successfully installed multitasking-0.0.11 yfinance-0.1.87\n"
     ]
    }
   ],
   "source": [
    "! pip install yfinance\n",
    "import numpy as np\n",
    "import pandas as pd\n",
    "import matplotlib.pyplot as plt\n",
    "import yfinance as yf\n",
    "import seaborn as sns\n",
    "%matplotlib inline"
   ]
  },
  {
   "cell_type": "code",
   "execution_count": 13,
   "id": "bf09137f",
   "metadata": {},
   "outputs": [
    {
     "name": "stdout",
     "output_type": "stream",
     "text": [
      "enter the code of the stock: NG=F\n",
      "[*********************100%***********************]  1 of 1 completed\n"
     ]
    },
    {
     "data": {
      "text/html": [
       "<div>\n",
       "<style scoped>\n",
       "    .dataframe tbody tr th:only-of-type {\n",
       "        vertical-align: middle;\n",
       "    }\n",
       "\n",
       "    .dataframe tbody tr th {\n",
       "        vertical-align: top;\n",
       "    }\n",
       "\n",
       "    .dataframe thead th {\n",
       "        text-align: right;\n",
       "    }\n",
       "</style>\n",
       "<table border=\"1\" class=\"dataframe\">\n",
       "  <thead>\n",
       "    <tr style=\"text-align: right;\">\n",
       "      <th></th>\n",
       "      <th>Open</th>\n",
       "      <th>High</th>\n",
       "      <th>Low</th>\n",
       "      <th>Close</th>\n",
       "      <th>Adj Close</th>\n",
       "      <th>Volume</th>\n",
       "    </tr>\n",
       "    <tr>\n",
       "      <th>Date</th>\n",
       "      <th></th>\n",
       "      <th></th>\n",
       "      <th></th>\n",
       "      <th></th>\n",
       "      <th></th>\n",
       "      <th></th>\n",
       "    </tr>\n",
       "  </thead>\n",
       "  <tbody>\n",
       "    <tr>\n",
       "      <th>2008-01-02</th>\n",
       "      <td>7.572</td>\n",
       "      <td>7.876</td>\n",
       "      <td>7.564</td>\n",
       "      <td>7.850</td>\n",
       "      <td>7.850</td>\n",
       "      <td>68553</td>\n",
       "    </tr>\n",
       "    <tr>\n",
       "      <th>2008-01-03</th>\n",
       "      <td>7.873</td>\n",
       "      <td>7.980</td>\n",
       "      <td>7.610</td>\n",
       "      <td>7.674</td>\n",
       "      <td>7.674</td>\n",
       "      <td>72742</td>\n",
       "    </tr>\n",
       "    <tr>\n",
       "      <th>2008-01-04</th>\n",
       "      <td>7.652</td>\n",
       "      <td>7.859</td>\n",
       "      <td>7.500</td>\n",
       "      <td>7.841</td>\n",
       "      <td>7.841</td>\n",
       "      <td>61496</td>\n",
       "    </tr>\n",
       "    <tr>\n",
       "      <th>2008-01-07</th>\n",
       "      <td>7.803</td>\n",
       "      <td>7.940</td>\n",
       "      <td>7.701</td>\n",
       "      <td>7.879</td>\n",
       "      <td>7.879</td>\n",
       "      <td>56675</td>\n",
       "    </tr>\n",
       "    <tr>\n",
       "      <th>2008-01-08</th>\n",
       "      <td>7.909</td>\n",
       "      <td>7.997</td>\n",
       "      <td>7.880</td>\n",
       "      <td>7.967</td>\n",
       "      <td>7.967</td>\n",
       "      <td>53775</td>\n",
       "    </tr>\n",
       "  </tbody>\n",
       "</table>\n",
       "</div>"
      ],
      "text/plain": [
       "             Open   High    Low  Close  Adj Close  Volume\n",
       "Date                                                     \n",
       "2008-01-02  7.572  7.876  7.564  7.850      7.850   68553\n",
       "2008-01-03  7.873  7.980  7.610  7.674      7.674   72742\n",
       "2008-01-04  7.652  7.859  7.500  7.841      7.841   61496\n",
       "2008-01-07  7.803  7.940  7.701  7.879      7.879   56675\n",
       "2008-01-08  7.909  7.997  7.880  7.967      7.967   53775"
      ]
     },
     "execution_count": 13,
     "metadata": {},
     "output_type": "execute_result"
    }
   ],
   "source": [
    "stocks = input(\"enter the code of the stock: \")\n",
    "data = yf.download(stocks,\"2008-01-01\",\"2022-11-22\")\n",
    "data.head()"
   ]
  },
  {
   "cell_type": "code",
   "execution_count": 16,
   "id": "2b9c7f23",
   "metadata": {},
   "outputs": [
    {
     "data": {
      "text/plain": [
       "(3750, 6)"
      ]
     },
     "execution_count": 16,
     "metadata": {},
     "output_type": "execute_result"
    }
   ],
   "source": [
    "data.shape"
   ]
  },
  {
   "cell_type": "code",
   "execution_count": 17,
   "id": "4b5ab01b",
   "metadata": {},
   "outputs": [
    {
     "name": "stdout",
     "output_type": "stream",
     "text": [
      "<class 'pandas.core.frame.DataFrame'>\n",
      "DatetimeIndex: 3750 entries, 2008-01-02 to 2022-11-21\n",
      "Data columns (total 6 columns):\n",
      " #   Column     Non-Null Count  Dtype  \n",
      "---  ------     --------------  -----  \n",
      " 0   Open       3750 non-null   float64\n",
      " 1   High       3750 non-null   float64\n",
      " 2   Low        3750 non-null   float64\n",
      " 3   Close      3750 non-null   float64\n",
      " 4   Adj Close  3750 non-null   float64\n",
      " 5   Volume     3750 non-null   int64  \n",
      "dtypes: float64(5), int64(1)\n",
      "memory usage: 205.1 KB\n"
     ]
    }
   ],
   "source": [
    "data.info()"
   ]
  },
  {
   "cell_type": "code",
   "execution_count": 18,
   "id": "815e76da",
   "metadata": {},
   "outputs": [
    {
     "data": {
      "text/html": [
       "<div>\n",
       "<style scoped>\n",
       "    .dataframe tbody tr th:only-of-type {\n",
       "        vertical-align: middle;\n",
       "    }\n",
       "\n",
       "    .dataframe tbody tr th {\n",
       "        vertical-align: top;\n",
       "    }\n",
       "\n",
       "    .dataframe thead th {\n",
       "        text-align: right;\n",
       "    }\n",
       "</style>\n",
       "<table border=\"1\" class=\"dataframe\">\n",
       "  <thead>\n",
       "    <tr style=\"text-align: right;\">\n",
       "      <th></th>\n",
       "      <th>Open</th>\n",
       "      <th>High</th>\n",
       "      <th>Low</th>\n",
       "      <th>Close</th>\n",
       "      <th>Adj Close</th>\n",
       "      <th>Volume</th>\n",
       "    </tr>\n",
       "  </thead>\n",
       "  <tbody>\n",
       "    <tr>\n",
       "      <th>count</th>\n",
       "      <td>3750.000000</td>\n",
       "      <td>3750.000000</td>\n",
       "      <td>3750.000000</td>\n",
       "      <td>3750.000000</td>\n",
       "      <td>3750.000000</td>\n",
       "      <td>3750.000000</td>\n",
       "    </tr>\n",
       "    <tr>\n",
       "      <th>mean</th>\n",
       "      <td>3.890829</td>\n",
       "      <td>3.977611</td>\n",
       "      <td>3.801273</td>\n",
       "      <td>3.885236</td>\n",
       "      <td>3.885236</td>\n",
       "      <td>130433.177867</td>\n",
       "    </tr>\n",
       "    <tr>\n",
       "      <th>std</th>\n",
       "      <td>1.905145</td>\n",
       "      <td>1.955519</td>\n",
       "      <td>1.851397</td>\n",
       "      <td>1.900977</td>\n",
       "      <td>1.900977</td>\n",
       "      <td>54202.832837</td>\n",
       "    </tr>\n",
       "    <tr>\n",
       "      <th>min</th>\n",
       "      <td>1.441000</td>\n",
       "      <td>1.567000</td>\n",
       "      <td>1.432000</td>\n",
       "      <td>1.482000</td>\n",
       "      <td>1.482000</td>\n",
       "      <td>0.000000</td>\n",
       "    </tr>\n",
       "    <tr>\n",
       "      <th>25%</th>\n",
       "      <td>2.730250</td>\n",
       "      <td>2.776000</td>\n",
       "      <td>2.680250</td>\n",
       "      <td>2.728000</td>\n",
       "      <td>2.728000</td>\n",
       "      <td>91811.250000</td>\n",
       "    </tr>\n",
       "    <tr>\n",
       "      <th>50%</th>\n",
       "      <td>3.420500</td>\n",
       "      <td>3.486500</td>\n",
       "      <td>3.344500</td>\n",
       "      <td>3.416500</td>\n",
       "      <td>3.416500</td>\n",
       "      <td>125280.500000</td>\n",
       "    </tr>\n",
       "    <tr>\n",
       "      <th>75%</th>\n",
       "      <td>4.340000</td>\n",
       "      <td>4.416250</td>\n",
       "      <td>4.251000</td>\n",
       "      <td>4.339000</td>\n",
       "      <td>4.339000</td>\n",
       "      <td>160203.250000</td>\n",
       "    </tr>\n",
       "    <tr>\n",
       "      <th>max</th>\n",
       "      <td>13.580000</td>\n",
       "      <td>13.694000</td>\n",
       "      <td>13.306000</td>\n",
       "      <td>13.577000</td>\n",
       "      <td>13.577000</td>\n",
       "      <td>459196.000000</td>\n",
       "    </tr>\n",
       "  </tbody>\n",
       "</table>\n",
       "</div>"
      ],
      "text/plain": [
       "              Open         High          Low        Close    Adj Close  \\\n",
       "count  3750.000000  3750.000000  3750.000000  3750.000000  3750.000000   \n",
       "mean      3.890829     3.977611     3.801273     3.885236     3.885236   \n",
       "std       1.905145     1.955519     1.851397     1.900977     1.900977   \n",
       "min       1.441000     1.567000     1.432000     1.482000     1.482000   \n",
       "25%       2.730250     2.776000     2.680250     2.728000     2.728000   \n",
       "50%       3.420500     3.486500     3.344500     3.416500     3.416500   \n",
       "75%       4.340000     4.416250     4.251000     4.339000     4.339000   \n",
       "max      13.580000    13.694000    13.306000    13.577000    13.577000   \n",
       "\n",
       "              Volume  \n",
       "count    3750.000000  \n",
       "mean   130433.177867  \n",
       "std     54202.832837  \n",
       "min         0.000000  \n",
       "25%     91811.250000  \n",
       "50%    125280.500000  \n",
       "75%    160203.250000  \n",
       "max    459196.000000  "
      ]
     },
     "execution_count": 18,
     "metadata": {},
     "output_type": "execute_result"
    }
   ],
   "source": [
    "data.describe()"
   ]
  },
  {
   "cell_type": "code",
   "execution_count": 19,
   "id": "baefa5ee",
   "metadata": {},
   "outputs": [
    {
     "data": {
      "text/plain": [
       "<module 'matplotlib.pyplot' from 'C:\\\\Users\\\\wayne\\\\anaconda3\\\\lib\\\\site-packages\\\\matplotlib\\\\pyplot.py'>"
      ]
     },
     "execution_count": 19,
     "metadata": {},
     "output_type": "execute_result"
    },
    {
     "data": {
      "image/png": "[encoded data removed]",
      "text/plain": [
       "<Figure size 720x504 with 1 Axes>"
      ]
     },
     "metadata": {
      "needs_background": "light"
     },
     "output_type": "display_data"
    }
   ],
   "source": [
    "data.Close.plot(figsize = (10,7),color = 'r')\n",
    "plt.title(\"{} Price series\".format(stocks))# In[ ]:\n",
    "plt.ylabel(\"{} Price \".format(stocks))\n",
    "plt  #NG=F的股票價格趨勢"
   ]
  },
  {
   "cell_type": "code",
   "execution_count": 20,
   "id": "9ee24c88",
   "metadata": {},
   "outputs": [
    {
     "data": {
      "text/plain": [
       "<seaborn.axisgrid.FacetGrid at 0x1689e064be0>"
      ]
     },
     "execution_count": 20,
     "metadata": {},
     "output_type": "execute_result"
    },
    {
     "data": {
      "image/png": "[encoded data removed]",
      "text/plain": [
       "<Figure size 360x360 with 1 Axes>"
      ]
     },
     "metadata": {
      "needs_background": "light"
     },
     "output_type": "display_data"
    }
   ],
   "source": [
    "sns.displot(data[\"Close\"])  #Close 的數據"
   ]
  },
  {
   "cell_type": "code",
   "execution_count": 21,
   "id": "fa7821a7",
   "metadata": {},
   "outputs": [
    {
     "data": {
      "text/plain": [
       "<seaborn.axisgrid.FacetGrid at 0x1689e1a5ca0>"
      ]
     },
     "execution_count": 21,
     "metadata": {},
     "output_type": "execute_result"
    },
    {
     "data": {
      "image/png": "[encoded data removed]",
      "text/plain": [
       "<Figure size 360x360 with 1 Axes>"
      ]
     },
     "metadata": {
      "needs_background": "light"
     },
     "output_type": "display_data"
    }
   ],
   "source": [
    "sns.displot(data[\"Open\"])  #Open 的數據"
   ]
  },
  {
   "cell_type": "code",
   "execution_count": 27,
   "id": "158c749a",
   "metadata": {},
   "outputs": [
    {
     "data": {
      "text/plain": [
       "array([ 2.727     ,  2.62100005,  2.66799998,  4.875     ,  3.69000006,\n",
       "        2.73399997, 11.39900017,  3.31500006,  4.86299992,  3.55800009,\n",
       "        2.86199999,  2.44499993,  5.29799986,  4.03100014,  4.70800018,\n",
       "        3.81399989,  2.84599996,  2.80599999,  1.78900003,  4.53000021,\n",
       "        3.97300005,  2.58599997,  2.94499993,  2.34100008,  2.9230001 ,\n",
       "        2.68199992,  6.13500023,  3.8900001 ,  3.91599989,  2.8440001 ,\n",
       "       13.01099968,  3.93000007,  1.847     ,  2.75999999,  8.32400036,\n",
       "        2.76399994,  2.69700003,  4.87400007,  3.12700009,  2.14700007,\n",
       "        2.8210001 ,  7.95599985,  2.19099998,  2.74000001,  4.66200018,\n",
       "        6.31799984,  5.46000004,  2.11999989,  4.29400015,  3.9460001 ,\n",
       "        9.68000031,  3.16599989,  2.60899997,  1.83000004,  4.60900021,\n",
       "        5.60500002,  2.79999995,  3.78200006,  2.93799996,  2.44799995,\n",
       "        8.97700024,  2.87299991,  4.36899996,  3.56200004,  1.74600005,\n",
       "        4.28200006,  4.26100016,  5.76800013,  3.66799998,  2.73300004,\n",
       "        2.66400003,  4.12900019,  7.62099981,  2.85400009,  2.93899989,\n",
       "        3.72900009,  8.72599983,  2.6099999 ,  6.53499985,  2.63700008,\n",
       "        1.75100005,  2.57999992,  3.6170001 ,  3.81200004,  2.8829999 ,\n",
       "        8.97099972,  2.90799999,  4.25099993,  5.56500006,  4.42000008,\n",
       "        3.86500001,  3.88199997,  3.1170001 ,  4.00699997,  4.80499983,\n",
       "        2.99600005,  8.09500027,  4.78700018,  3.80999994,  2.93499994,\n",
       "        4.19799995,  2.32999992,  3.79299998,  2.96099997,  3.05599999,\n",
       "        4.16099977,  2.60800004,  2.64199996,  4.35500002,  2.83599997,\n",
       "        3.08200002,  2.26900005,  4.80100012,  4.40500021,  3.41400003,\n",
       "        6.36899996,  2.90100002,  2.40400004,  1.72000003,  4.55900002,\n",
       "        2.72900009,  3.10500002,  2.81500006,  3.56999993,  5.87200022,\n",
       "       12.60400009,  2.329     ,  3.28699994,  2.73399997,  6.78299999,\n",
       "        9.10000038,  6.87799978,  5.3579998 ,  8.13399982,  4.38899994,\n",
       "        2.94000006,  1.59800005,  1.86199999,  2.8210001 ,  4.47599983,\n",
       "        3.31999993,  3.28399992,  3.954     ,  2.48099995,  2.77200007,\n",
       "        2.69099998,  4.30900002,  9.41399956,  4.12400007,  8.30099964,\n",
       "        3.34699988,  5.93300009,  2.43499994,  4.74100018,  4.30499983,\n",
       "        3.63499999,  2.56299996,  2.99600005,  4.00699997,  4.69299984,\n",
       "        2.46199989,  2.82399988,  2.83400011,  2.13499999,  2.4289999 ,\n",
       "        2.66400003,  3.91000009,  7.90999985,  5.17000008,  3.38199997,\n",
       "        3.29299998,  5.41599989,  7.6789999 ,  2.41499996,  2.6559999 ,\n",
       "        3.04699993,  5.0619998 ,  3.227     ,  3.97600007,  3.83500004,\n",
       "        2.43000007,  2.63599992,  3.4749999 ,  1.972     ,  8.96500015,\n",
       "        2.56900001,  3.39100003,  4.579     ,  2.92499995,  3.62800002,\n",
       "        3.4059999 ,  3.04999995,  4.2670002 ,  4.47300005,  2.9749999 ,\n",
       "        4.3670001 ,  3.08800006,  2.13000011,  2.81100011,  2.40799999,\n",
       "        3.02200007,  3.64199996,  5.54199982,  4.046     ,  2.01600003,\n",
       "       11.47700024,  2.87700009, 10.05300045,  4.16599989,  4.27699995,\n",
       "        2.98099995,  4.079     ,  3.6960001 ,  4.43599987,  1.71200001,\n",
       "        2.96399999,  3.53699994,  3.48600006,  2.61400008,  1.671     ,\n",
       "        2.9059999 ,  3.54200006,  2.37100005,  5.48799992,  3.68899989,\n",
       "        1.65400004,  5.26000023,  3.05699992,  3.30599999,  2.63899994,\n",
       "        3.82299995,  7.32200003,  3.77800012,  2.77399993,  4.14799976,\n",
       "        2.8599999 ,  3.77099991,  3.23000002,  8.90799999,  7.4380002 ,\n",
       "        2.83400011,  2.58400011,  7.99300003,  2.04200006,  3.26600003,\n",
       "        2.79399991,  2.35599995,  3.74300003,  3.18400002,  2.85400009,\n",
       "        4.83300018,  2.59800005,  3.03500009,  1.92700005,  3.73000002,\n",
       "        3.81800008,  1.78299999,  2.72600007,  3.52399993,  3.23200011,\n",
       "        2.74099994,  4.34700012,  3.7980001 ,  3.93799996,  2.5999999 ,\n",
       "        1.93599999,  3.59100008,  4.329     ,  3.26300001,  1.78999996,\n",
       "        2.75600004,  3.09599996,  2.09800005,  2.77699995,  3.90100002,\n",
       "        2.63599992,  4.30600023,  2.421     ,  2.48699999,  2.86800003,\n",
       "        3.83999991,  2.79200006,  3.47399998,  4.48400021,  9.76900005,\n",
       "        2.70000005,  7.93100023,  3.93300009,  3.91400003,  2.46700001,\n",
       "        3.45499992, 10.06700039,  2.28699994,  2.25600004,  4.68100023,\n",
       "        2.91899991,  2.17199993,  2.73900008,  2.67000008,  3.14100003,\n",
       "        3.72300005,  9.21700001,  4.62300014,  1.954     ,  5.98999977,\n",
       "        3.51900005,  4.06500006,  4.58599997,  4.23000002,  2.45499992,\n",
       "        2.08899999,  4.53100014,  5.85900021,  2.91799998,  4.0619998 ,\n",
       "        3.46099997,  2.68899989,  2.96199989,  4.54300022,  4.18599987,\n",
       "        2.82200003,  3.7980001 ,  3.352     ,  3.78999996,  2.352     ,\n",
       "        3.94700003,  4.4000001 ,  4.04400015,  7.71700001,  2.51099992,\n",
       "        4.35699987,  2.67700005,  4.51300001,  3.96199989,  2.08299994,\n",
       "        2.88199997,  3.69499993,  9.57800007, 10.60700035,  4.7249999 ,\n",
       "        2.24799991,  1.98300004,  3.08500004,  1.75199997,  4.05600023,\n",
       "        2.10500002,  4.17999983,  2.66400003,  3.12899995,  2.80100012,\n",
       "        3.98000002,  3.33100009,  3.69499993, 13.35299969,  3.69499993,\n",
       "        3.30100012,  4.17399979,  2.26900005,  2.7750001 ,  2.56399989,\n",
       "        4.32600021,  1.81299996,  9.74199963,  2.31999993,  3.58400011,\n",
       "        2.546     ,  2.88199997,  3.18499994,  4.24700022,  8.77200031,\n",
       "        4.98699999,  6.84399986,  3.46000004,  2.5539999 ,  7.93200016,\n",
       "        9.41699982,  2.52999997,  4.09299994,  4.41200018,  3.64899993,\n",
       "        4.82399988,  8.13599968,  3.70300007,  2.14499998,  2.41599989,\n",
       "        6.83500004,  2.625     ,  2.96700001,  3.18700004,  2.69300008,\n",
       "        4.42700005,  4.05600023,  8.05000019,  3.59800005,  1.602     ,\n",
       "        3.61599994,  2.61899996,  2.99900007,  6.74800014,  3.97600007,\n",
       "        1.89400005,  1.90499997,  4.3039999 ,  4.3130002 ,  2.63400006,\n",
       "        3.01099992,  3.79699993,  6.7420001 ,  3.67400002,  5.42700005,\n",
       "        2.70799994,  1.98300004,  8.38799953,  2.625     ,  4.04799986,\n",
       "        2.83200002,  3.19099998,  1.77100003,  2.91100001,  1.55200005,\n",
       "        3.23699999,  2.86299992,  2.55200005,  2.80100012,  3.23799992,\n",
       "        2.65199995,  2.1730001 ,  5.30999994,  3.31900001,  3.93799996,\n",
       "        2.19099998,  1.73099995,  3.8269999 ,  3.67400002,  2.21199989,\n",
       "        3.00699997,  5.59100008,  2.75099993, 11.27999973,  4.42199993,\n",
       "        4.08799982,  1.73399997,  3.14499998,  3.27600002,  1.82200003,\n",
       "        2.88000011,  4.4920001 ,  2.47199988,  3.21799994,  2.64700007,\n",
       "        3.77800012,  2.32299995,  2.30299997,  3.45799994,  3.7809999 ,\n",
       "        3.08400011,  4.58400011,  2.55900002,  2.84200001,  4.15100002,\n",
       "        6.4000001 ,  1.83399999,  5.06500006,  2.37100005,  3.5539999 ,\n",
       "        3.14299989,  2.89400005,  5.58300018,  3.45900011,  1.90199995,\n",
       "        2.27399993,  2.77099991,  3.17000008,  7.91499996,  2.25699997,\n",
       "        4.91400003,  2.77200007,  4.89499998,  3.11899996,  5.68599987,\n",
       "        2.9289999 ,  2.93799996,  3.33299994,  1.77900004,  4.83099985,\n",
       "        2.26900005,  4.23199987,  3.51300001,  2.71600008,  3.102     ,\n",
       "        3.23200011,  7.39300013,  2.85899997,  7.24900007,  2.58200002,\n",
       "        2.03900003,  8.09200001,  4.13600016,  4.02400017,  4.44000006,\n",
       "        8.24800014,  3.61999989,  1.84099996,  2.86999989,  2.8210001 ,\n",
       "       11.47399998,  2.60400009,  1.89300001,  2.68499994,  5.59800005,\n",
       "        4.3210001 ,  2.52800012,  4.34299994,  3.18199992,  2.63599992,\n",
       "        2.60500002,  2.98200011,  3.01900005,  4.15799999,  3.3210001 ,\n",
       "        2.88499999,  3.57800007,  3.82999992,  2.48799992,  3.06299996,\n",
       "        2.96099997,  2.76799989,  2.55699992,  2.84100008,  2.67199993,\n",
       "        2.82200003,  2.18600011,  1.852     ,  3.43199992,  6.90299988,\n",
       "        4.28399992,  4.65100002,  4.53299999,  4.15999985,  2.89100003,\n",
       "        4.05499983,  2.83100009,  4.65899992,  8.69900036,  3.56599998,\n",
       "        4.33799982,  2.91499996,  4.25400019,  2.18700004,  2.86500001,\n",
       "        2.75200009,  4.13899994,  1.91999996,  2.45300007,  2.69700003,\n",
       "        1.63699996,  3.01699996,  2.63400006,  3.74300003,  2.76900005,\n",
       "        2.35100007,  7.27899981,  3.36400008,  2.329     ,  3.36800003,\n",
       "        8.52299976,  2.51799989,  2.20000005,  2.94000006,  3.53500009,\n",
       "        7.53499985,  2.21000004,  3.25300002,  2.58200002,  3.75999999,\n",
       "        4.73899984,  2.68000007,  2.67799997,  3.89499998,  4.48600006,\n",
       "        3.9690001 ,  4.58099985,  1.70899999,  4.61899996,  2.93499994,\n",
       "        2.14100003,  4.71899986,  3.59899998,  4.67000008,  3.98099995,\n",
       "        2.31200004,  3.15899992,  2.75      ,  4.00500011,  2.74000001,\n",
       "        9.72399998,  2.69300008,  2.5250001 ,  6.07200003,  2.83500004,\n",
       "        4.82399988,  4.69799995,  3.93499994,  4.25500011,  6.3119998 ,\n",
       "        3.64899993,  4.40299988, 11.26299953,  4.16800022,  2.81599998,\n",
       "        1.653     ,  3.64400005,  4.02400017,  3.95499992,  3.00699997,\n",
       "        3.10400009,  2.96199989,  7.66300011,  3.92000008,  2.18899989,\n",
       "        2.76399994,  3.66599989,  4.20300007,  4.51300001,  3.28500009,\n",
       "        4.87300014,  2.98099995,  3.51300001,  2.65899992,  2.977     ,\n",
       "        2.72799993,  2.60100007,  4.15500021,  5.63700008,  2.38199997,\n",
       "        3.09699988,  2.39599991,  4.73000002,  4.37400007,  4.51599979,\n",
       "        4.16900015,  1.80599999,  4.0170002 ,  4.71799994,  4.58599997,\n",
       "        6.70499992,  3.19499993,  2.48900008,  2.65700006,  3.33500004,\n",
       "        4.9000001 ,  2.91199994,  2.171     ,  3.16899991,  3.83699989,\n",
       "        2.85299993,  3.9230001 ,  4.70699978,  2.38700008,  3.93700004,\n",
       "        4.63999987,  2.86500001,  6.26499987,  2.65300012,  2.93199992,\n",
       "        3.9749999 ,  2.81999993,  3.61800003,  7.8499999 ,  3.92499995,\n",
       "        2.94799995,  6.88800001,  3.27800012,  4.52299976,  2.62599993,\n",
       "        5.73699999,  2.15799999,  3.77800012,  3.65400004,  4.32600021,\n",
       "        4.70100021,  3.65199995,  2.51900005,  3.61899996,  7.24800014,\n",
       "        4.80700016,  3.67400002,  7.46400023,  2.47600007,  2.7579999 ,\n",
       "        2.89400005,  4.02299976,  3.96199989,  2.40499997,  2.91000009,\n",
       "        3.61400008,  7.24800014,  2.90100002,  4.23999977,  2.27600002,\n",
       "        3.1789999 ,  2.67199993,  3.21000004,  3.16300011,  3.7980001 ,\n",
       "        4.58799982,  3.76900005,  3.83500004,  1.83500004,  2.54999995,\n",
       "        3.01999998,  3.57599998,  4.11199999,  3.87899995,  1.65900004,\n",
       "        3.50699997,  3.83400011,  3.62899995,  4.15999985,  4.57999992,\n",
       "        3.24600005,  4.36299992,  4.38600016,  3.26699996,  2.1400001 ,\n",
       "        1.82099998,  3.01200008,  5.29400015,  8.04300022,  5.88399982,\n",
       "        4.54199982,  4.25500011,  1.63800001,  3.24399996,  2.66599989,\n",
       "        2.96399999, 12.69299984,  4.48600006,  4.48999977,  3.28500009,\n",
       "        2.625     ,  3.73099995,  4.6789999 ,  3.28500009,  5.375     ,\n",
       "        3.55999994,  2.97000003,  2.40300012,  4.80800009,  2.95600009])"
      ]
     },
     "execution_count": 27,
     "metadata": {},
     "output_type": "execute_result"
    }
   ],
   "source": [
    "from sklearn.model_selection import train_test_split\n",
    "from sklearn.linear_model import LinearRegression\n",
    "x = data.drop(\"Close\", axis = 1)\n",
    "y = data[\"Close\"]\n",
    "\n",
    "x_train, x_test, y_train, y_test = train_test_split(x, y, test_size=0.2, random_state=42)\n",
    "model_linear_regression = LinearRegression()\n",
    "model_linear_regression.fit(x_train, y_train)\n",
    "prediction = model_linear_regression.predict(x_test)\n",
    "prediction"
   ]
  },
  {
   "cell_type": "code",
   "execution_count": 31,
   "id": "c8d7cdeb",
   "metadata": {},
   "outputs": [
    {
     "name": "stdout",
     "output_type": "stream",
     "text": [
      "mse=  1.8880202475107085e-29\n",
      "rmse=  4.345135495598162e-15\n",
      "r2_score=  1.0\n"
     ]
    }
   ],
   "source": [
    "# rmse mse r2_square\n",
    "from sklearn.metrics import mean_squared_error, r2_score  #沒有rmse所以要自己寫\n",
    "\n",
    "# y_test是抓下來的的data   y_pred 是 model預測的結果\n",
    "\n",
    "def calcuate_metrics(y_test, y_pred):\n",
    "    mse = mean_squared_error(y_test, y_pred)\n",
    "    rmse = np.sqrt(mse)  #就這麼簡單\n",
    "    r2_scors = r2_score(y_test, y_pred)\n",
    "    \n",
    "    print(\"mse= \", mse)\n",
    "    print(\"rmse= \", rmse)\n",
    "    print(\"r2_score= \", r2_scors)\n",
    "    \n",
    "    \n",
    "calcuate_metrics(y_test,prediction)  #使用上面的 calcuate_metrics function 看看mse rmse r2_score如何"
   ]
  },
  {
   "cell_type": "code",
   "execution_count": 35,
   "id": "51494633",
   "metadata": {},
   "outputs": [
    {
     "name": "stdout",
     "output_type": "stream",
     "text": [
      "mse=  0.2603183270153916\n",
      "rmse=  0.5102140011949805\n",
      "r2_score=  0.9244462163726133\n",
      "mse=  2.1765905655506887e-05\n",
      "rmse=  0.0046653944801599454\n",
      "r2_score=  0.9999936827477911\n"
     ]
    }
   ],
   "source": [
    "from sklearn.linear_model import Lasso, Ridge\n",
    "\n",
    "la = Lasso().fit(x_train, y_train)\n",
    "ri = Ridge().fit(x_train, y_train)\n",
    "\n",
    "la_pred = la.predict(x_test)\n",
    "ri_pred = ri.predict(x_test)\n",
    "\n",
    "calcuate_metrics(y_test, la_pred)\n",
    "calcuate_metrics(y_test, ri_pred)\n",
    "# Ridge 比 Lasso好"
   ]
  },
  {
   "cell_type": "code",
   "execution_count": 36,
   "id": "a6c3298f",
   "metadata": {},
   "outputs": [
    {
     "name": "stdout",
     "output_type": "stream",
     "text": [
      "Fitting 5 folds for each of 25 candidates, totalling 125 fits\n",
      "[CV 1/5] END .......C=0.1, gamma=1, kernel=rbf;, score=-0.080 total time=   0.5s\n",
      "[CV 2/5] END .......C=0.1, gamma=1, kernel=rbf;, score=-0.047 total time=   0.5s\n",
      "[CV 3/5] END .......C=0.1, gamma=1, kernel=rbf;, score=-0.053 total time=   0.5s\n",
      "[CV 4/5] END .......C=0.1, gamma=1, kernel=rbf;, score=-0.075 total time=   0.5s\n",
      "[CV 5/5] END .......C=0.1, gamma=1, kernel=rbf;, score=-0.059 total time=   0.5s\n",
      "[CV 1/5] END .....C=0.1, gamma=0.1, kernel=rbf;, score=-0.079 total time=   0.5s\n",
      "[CV 2/5] END .....C=0.1, gamma=0.1, kernel=rbf;, score=-0.047 total time=   0.5s\n",
      "[CV 3/5] END .....C=0.1, gamma=0.1, kernel=rbf;, score=-0.053 total time=   0.5s\n",
      "[CV 4/5] END .....C=0.1, gamma=0.1, kernel=rbf;, score=-0.075 total time=   0.5s\n",
      "[CV 5/5] END .....C=0.1, gamma=0.1, kernel=rbf;, score=-0.058 total time=   0.5s\n",
      "[CV 1/5] END ....C=0.1, gamma=0.01, kernel=rbf;, score=-0.078 total time=   0.5s\n",
      "[CV 2/5] END ....C=0.1, gamma=0.01, kernel=rbf;, score=-0.044 total time=   0.5s\n",
      "[CV 3/5] END ....C=0.1, gamma=0.01, kernel=rbf;, score=-0.052 total time=   0.5s\n",
      "[CV 4/5] END ....C=0.1, gamma=0.01, kernel=rbf;, score=-0.075 total time=   0.5s\n",
      "[CV 5/5] END ....C=0.1, gamma=0.01, kernel=rbf;, score=-0.058 total time=   0.5s\n",
      "[CV 1/5] END ...C=0.1, gamma=0.001, kernel=rbf;, score=-0.076 total time=   0.5s\n",
      "[CV 2/5] END ...C=0.1, gamma=0.001, kernel=rbf;, score=-0.039 total time=   0.5s\n",
      "[CV 3/5] END ...C=0.1, gamma=0.001, kernel=rbf;, score=-0.049 total time=   0.5s\n",
      "[CV 4/5] END ...C=0.1, gamma=0.001, kernel=rbf;, score=-0.071 total time=   0.5s\n",
      "[CV 5/5] END ...C=0.1, gamma=0.001, kernel=rbf;, score=-0.056 total time=   0.5s\n",
      "[CV 1/5] END ..C=0.1, gamma=0.0001, kernel=rbf;, score=-0.063 total time=   0.5s\n",
      "[CV 2/5] END ..C=0.1, gamma=0.0001, kernel=rbf;, score=-0.030 total time=   0.5s\n",
      "[CV 3/5] END ..C=0.1, gamma=0.0001, kernel=rbf;, score=-0.038 total time=   0.5s\n",
      "[CV 4/5] END ..C=0.1, gamma=0.0001, kernel=rbf;, score=-0.059 total time=   0.5s\n",
      "[CV 5/5] END ..C=0.1, gamma=0.0001, kernel=rbf;, score=-0.046 total time=   0.5s\n",
      "[CV 1/5] END .........C=1, gamma=1, kernel=rbf;, score=-0.061 total time=   0.5s\n",
      "[CV 2/5] END .........C=1, gamma=1, kernel=rbf;, score=-0.028 total time=   0.6s\n",
      "[CV 3/5] END .........C=1, gamma=1, kernel=rbf;, score=-0.038 total time=   0.6s\n",
      "[CV 4/5] END .........C=1, gamma=1, kernel=rbf;, score=-0.060 total time=   0.5s\n",
      "[CV 5/5] END .........C=1, gamma=1, kernel=rbf;, score=-0.039 total time=   0.5s\n",
      "[CV 1/5] END .......C=1, gamma=0.1, kernel=rbf;, score=-0.058 total time=   0.5s\n",
      "[CV 2/5] END .......C=1, gamma=0.1, kernel=rbf;, score=-0.025 total time=   0.6s\n",
      "[CV 3/5] END .......C=1, gamma=0.1, kernel=rbf;, score=-0.035 total time=   0.5s\n",
      "[CV 4/5] END .......C=1, gamma=0.1, kernel=rbf;, score=-0.059 total time=   0.5s\n",
      "[CV 5/5] END .......C=1, gamma=0.1, kernel=rbf;, score=-0.036 total time=   0.5s\n",
      "[CV 1/5] END ......C=1, gamma=0.01, kernel=rbf;, score=-0.059 total time=   0.5s\n",
      "[CV 2/5] END ......C=1, gamma=0.01, kernel=rbf;, score=-0.013 total time=   0.5s\n",
      "[CV 3/5] END ......C=1, gamma=0.01, kernel=rbf;, score=-0.031 total time=   0.6s\n",
      "[CV 4/5] END ......C=1, gamma=0.01, kernel=rbf;, score=-0.057 total time=   0.6s\n",
      "[CV 5/5] END ......C=1, gamma=0.01, kernel=rbf;, score=-0.039 total time=   0.6s\n",
      "[CV 1/5] END .....C=1, gamma=0.001, kernel=rbf;, score=-0.073 total time=   0.6s\n",
      "[CV 2/5] END .....C=1, gamma=0.001, kernel=rbf;, score=-0.005 total time=   0.5s\n",
      "[CV 3/5] END .....C=1, gamma=0.001, kernel=rbf;, score=-0.033 total time=   0.5s\n",
      "[CV 4/5] END .....C=1, gamma=0.001, kernel=rbf;, score=-0.053 total time=   0.5s\n",
      "[CV 5/5] END .....C=1, gamma=0.001, kernel=rbf;, score=-0.048 total time=   0.5s\n",
      "[CV 1/5] END ....C=1, gamma=0.0001, kernel=rbf;, score=-0.065 total time=   0.5s\n",
      "[CV 2/5] END ....C=1, gamma=0.0001, kernel=rbf;, score=-0.024 total time=   0.6s\n",
      "[CV 3/5] END ....C=1, gamma=0.0001, kernel=rbf;, score=-0.027 total time=   0.6s\n",
      "[CV 4/5] END ....C=1, gamma=0.0001, kernel=rbf;, score=-0.048 total time=   0.5s\n",
      "[CV 5/5] END ....C=1, gamma=0.0001, kernel=rbf;, score=-0.053 total time=   0.5s\n",
      "[CV 1/5] END .........C=10, gamma=1, kernel=rbf;, score=0.005 total time=   0.6s\n",
      "[CV 2/5] END ........C=10, gamma=1, kernel=rbf;, score=-0.004 total time=   0.6s\n",
      "[CV 3/5] END ........C=10, gamma=1, kernel=rbf;, score=-0.000 total time=   0.6s\n",
      "[CV 4/5] END ........C=10, gamma=1, kernel=rbf;, score=-0.003 total time=   0.6s\n",
      "[CV 5/5] END .........C=10, gamma=1, kernel=rbf;, score=0.005 total time=   0.6s\n",
      "[CV 1/5] END .......C=10, gamma=0.1, kernel=rbf;, score=0.012 total time=   0.6s\n",
      "[CV 2/5] END .......C=10, gamma=0.1, kernel=rbf;, score=0.003 total time=   0.6s\n",
      "[CV 3/5] END .......C=10, gamma=0.1, kernel=rbf;, score=0.005 total time=   0.6s\n",
      "[CV 4/5] END .......C=10, gamma=0.1, kernel=rbf;, score=0.002 total time=   0.6s\n",
      "[CV 5/5] END .......C=10, gamma=0.1, kernel=rbf;, score=0.013 total time=   0.6s\n",
      "[CV 1/5] END ......C=10, gamma=0.01, kernel=rbf;, score=0.005 total time=   0.6s\n",
      "[CV 2/5] END ......C=10, gamma=0.01, kernel=rbf;, score=0.072 total time=   0.6s\n",
      "[CV 3/5] END ......C=10, gamma=0.01, kernel=rbf;, score=0.024 total time=   0.6s\n",
      "[CV 4/5] END ......C=10, gamma=0.01, kernel=rbf;, score=0.018 total time=   0.6s\n",
      "[CV 5/5] END ......C=10, gamma=0.01, kernel=rbf;, score=0.016 total time=   0.6s\n",
      "[CV 1/5] END ....C=10, gamma=0.001, kernel=rbf;, score=-0.131 total time=   0.6s\n",
      "[CV 2/5] END ....C=10, gamma=0.001, kernel=rbf;, score=-0.057 total time=   0.6s\n",
      "[CV 3/5] END ....C=10, gamma=0.001, kernel=rbf;, score=-0.076 total time=   0.6s\n",
      "[CV 4/5] END ....C=10, gamma=0.001, kernel=rbf;, score=-0.075 total time=   0.6s\n",
      "[CV 5/5] END ....C=10, gamma=0.001, kernel=rbf;, score=-0.104 total time=   0.6s\n",
      "[CV 1/5] END ...C=10, gamma=0.0001, kernel=rbf;, score=-0.390 total time=   0.7s\n",
      "[CV 2/5] END ...C=10, gamma=0.0001, kernel=rbf;, score=-0.287 total time=   0.7s\n",
      "[CV 3/5] END ...C=10, gamma=0.0001, kernel=rbf;, score=-0.212 total time=   0.7s\n",
      "[CV 4/5] END ...C=10, gamma=0.0001, kernel=rbf;, score=-0.157 total time=   0.7s\n",
      "[CV 5/5] END ...C=10, gamma=0.0001, kernel=rbf;, score=-0.290 total time=   0.6s\n",
      "[CV 1/5] END ........C=100, gamma=1, kernel=rbf;, score=0.005 total time=   0.6s\n",
      "[CV 2/5] END .......C=100, gamma=1, kernel=rbf;, score=-0.004 total time=   0.6s\n",
      "[CV 3/5] END .......C=100, gamma=1, kernel=rbf;, score=-0.000 total time=   0.6s\n",
      "[CV 4/5] END .......C=100, gamma=1, kernel=rbf;, score=-0.003 total time=   0.6s\n",
      "[CV 5/5] END ........C=100, gamma=1, kernel=rbf;, score=0.005 total time=   0.6s\n",
      "[CV 1/5] END ......C=100, gamma=0.1, kernel=rbf;, score=0.012 total time=   0.6s\n",
      "[CV 2/5] END ......C=100, gamma=0.1, kernel=rbf;, score=0.003 total time=   0.6s\n",
      "[CV 3/5] END ......C=100, gamma=0.1, kernel=rbf;, score=0.005 total time=   0.6s\n",
      "[CV 4/5] END ......C=100, gamma=0.1, kernel=rbf;, score=0.002 total time=   0.6s\n",
      "[CV 5/5] END ......C=100, gamma=0.1, kernel=rbf;, score=0.013 total time=   0.6s\n",
      "[CV 1/5] END .....C=100, gamma=0.01, kernel=rbf;, score=0.005 total time=   0.6s\n",
      "[CV 2/5] END .....C=100, gamma=0.01, kernel=rbf;, score=0.072 total time=   0.6s\n",
      "[CV 3/5] END .....C=100, gamma=0.01, kernel=rbf;, score=0.024 total time=   0.6s\n",
      "[CV 4/5] END .....C=100, gamma=0.01, kernel=rbf;, score=0.018 total time=   0.6s\n",
      "[CV 5/5] END .....C=100, gamma=0.01, kernel=rbf;, score=0.016 total time=   0.6s\n",
      "[CV 1/5] END ...C=100, gamma=0.001, kernel=rbf;, score=-0.146 total time=   0.7s\n",
      "[CV 2/5] END ...C=100, gamma=0.001, kernel=rbf;, score=-0.069 total time=   0.7s\n",
      "[CV 3/5] END ...C=100, gamma=0.001, kernel=rbf;, score=-0.100 total time=   0.7s\n",
      "[CV 4/5] END ...C=100, gamma=0.001, kernel=rbf;, score=-0.084 total time=   0.7s\n",
      "[CV 5/5] END ...C=100, gamma=0.001, kernel=rbf;, score=-0.114 total time=   0.7s\n",
      "[CV 1/5] END ..C=100, gamma=0.0001, kernel=rbf;, score=-0.883 total time=   1.3s\n",
      "[CV 2/5] END ..C=100, gamma=0.0001, kernel=rbf;, score=-0.679 total time=   1.3s\n",
      "[CV 3/5] END ..C=100, gamma=0.0001, kernel=rbf;, score=-0.552 total time=   1.3s\n",
      "[CV 4/5] END ..C=100, gamma=0.0001, kernel=rbf;, score=-0.449 total time=   1.3s\n",
      "[CV 5/5] END ..C=100, gamma=0.0001, kernel=rbf;, score=-0.638 total time=   1.3s\n",
      "[CV 1/5] END .......C=1000, gamma=1, kernel=rbf;, score=0.005 total time=   0.6s\n"
     ]
    },
    {
     "name": "stdout",
     "output_type": "stream",
     "text": [
      "[CV 2/5] END ......C=1000, gamma=1, kernel=rbf;, score=-0.004 total time=   0.6s\n",
      "[CV 3/5] END ......C=1000, gamma=1, kernel=rbf;, score=-0.000 total time=   0.6s\n",
      "[CV 4/5] END ......C=1000, gamma=1, kernel=rbf;, score=-0.003 total time=   0.6s\n",
      "[CV 5/5] END .......C=1000, gamma=1, kernel=rbf;, score=0.005 total time=   0.6s\n",
      "[CV 1/5] END .....C=1000, gamma=0.1, kernel=rbf;, score=0.012 total time=   0.6s\n",
      "[CV 2/5] END .....C=1000, gamma=0.1, kernel=rbf;, score=0.003 total time=   0.6s\n",
      "[CV 3/5] END .....C=1000, gamma=0.1, kernel=rbf;, score=0.005 total time=   0.6s\n",
      "[CV 4/5] END .....C=1000, gamma=0.1, kernel=rbf;, score=0.002 total time=   0.6s\n",
      "[CV 5/5] END .....C=1000, gamma=0.1, kernel=rbf;, score=0.013 total time=   0.6s\n",
      "[CV 1/5] END ....C=1000, gamma=0.01, kernel=rbf;, score=0.005 total time=   0.6s\n",
      "[CV 2/5] END ....C=1000, gamma=0.01, kernel=rbf;, score=0.072 total time=   0.6s\n",
      "[CV 3/5] END ....C=1000, gamma=0.01, kernel=rbf;, score=0.024 total time=   0.6s\n",
      "[CV 4/5] END ....C=1000, gamma=0.01, kernel=rbf;, score=0.018 total time=   0.6s\n",
      "[CV 5/5] END ....C=1000, gamma=0.01, kernel=rbf;, score=0.016 total time=   0.6s\n",
      "[CV 1/5] END ..C=1000, gamma=0.001, kernel=rbf;, score=-0.146 total time=   0.7s\n",
      "[CV 2/5] END ..C=1000, gamma=0.001, kernel=rbf;, score=-0.068 total time=   0.7s\n",
      "[CV 3/5] END ..C=1000, gamma=0.001, kernel=rbf;, score=-0.100 total time=   0.7s\n",
      "[CV 4/5] END ..C=1000, gamma=0.001, kernel=rbf;, score=-0.084 total time=   0.7s\n",
      "[CV 5/5] END ..C=1000, gamma=0.001, kernel=rbf;, score=-0.114 total time=   0.7s\n",
      "[CV 1/5] END .C=1000, gamma=0.0001, kernel=rbf;, score=-0.725 total time=   3.9s\n",
      "[CV 2/5] END .C=1000, gamma=0.0001, kernel=rbf;, score=-0.809 total time=   3.9s\n",
      "[CV 3/5] END .C=1000, gamma=0.0001, kernel=rbf;, score=-0.596 total time=   3.9s\n",
      "[CV 4/5] END .C=1000, gamma=0.0001, kernel=rbf;, score=-0.427 total time=   4.5s\n",
      "[CV 5/5] END .C=1000, gamma=0.0001, kernel=rbf;, score=-0.538 total time=   4.0s\n"
     ]
    },
    {
     "data": {
      "text/plain": [
       "GridSearchCV(estimator=SVR(),\n",
       "             param_grid={'C': [0.1, 1, 10, 100, 1000],\n",
       "                         'gamma': [1, 0.1, 0.01, 0.001, 0.0001],\n",
       "                         'kernel': ['rbf']},\n",
       "             verbose=3)"
      ]
     },
     "execution_count": 36,
     "metadata": {},
     "output_type": "execute_result"
    }
   ],
   "source": [
    "from sklearn.svm import SVR\n",
    "from sklearn.model_selection import GridSearchCV\n",
    "\n",
    "svr = SVR()\n",
    "param_grid = {'C':[0.1, 1, 10, 100, 1000],\n",
    "             'gamma':[1, 0.1, 0.01, 0.001, 0.0001],\n",
    "             'kernel':['rbf']}\n",
    "grid = GridSearchCV(SVR(), param_grid, refit = True, verbose = 3)\n",
    "grid.fit(x_train, y_train)"
   ]
  },
  {
   "cell_type": "code",
   "execution_count": 40,
   "id": "730982c6",
   "metadata": {},
   "outputs": [],
   "source": [
    "svr = SVR(C = 10, gamma = 0.01,kernel = 'rbf')\n",
    "svr.fit(x_train, y_train)\n",
    "svr_pred = svr.predict(x_test)"
   ]
  },
  {
   "cell_type": "code",
   "execution_count": 43,
   "id": "35cde67c",
   "metadata": {},
   "outputs": [],
   "source": [
    "import joblib \n",
    "\n",
    "joblib.dump(ri, 'model.pkl')\n",
    "ridge_from_joblib = model = joblib.load(\"model.pkl\")"
   ]
  },
  {
   "cell_type": "code",
   "execution_count": null,
   "id": "20f37dc8",
   "metadata": {},
   "outputs": [],
   "source": []
  }
 ],
 "metadata": {
  "kernelspec": {
   "display_name": "Python 3 (ipykernel)",
   "language": "python",
   "name": "python3"
  },
  "language_info": {
   "codemirror_mode": {
    "name": "ipython",
    "version": 3
   },
   "file_extension": ".py",
   "mimetype": "text/x-python",
   "name": "python",
   "nbconvert_exporter": "python",
   "pygments_lexer": "ipython3",
   "version": "3.9.12"
  }
 },
 "nbformat": 4,
 "nbformat_minor": 5
}
